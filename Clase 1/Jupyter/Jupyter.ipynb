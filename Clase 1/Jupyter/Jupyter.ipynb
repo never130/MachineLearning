{
 "cells": [
  {
   "cell_type": "markdown",
   "id": "e86baf9a",
   "metadata": {},
   "source": [
    "# Este es un título de nivel 1\n",
    "\n",
    "## Este es un título de nivel 2\n",
    "\n",
    "### Este es un título de nivel 3\n",
    "\n",
    "**Este texto está en negrita**\n",
    "\n",
    "*Este texto está en cursiva*\n",
    "\n",
    "* Este es un elemento de lista desordenada\n",
    "\n",
    "* Este es otro elemento de lista desordenada\n",
    "\n",
    "1. Este es un elemento de lista ordenada\n",
    "2. Este es otro elemento de lista ordenada"
   ]
  },
  {
   "cell_type": "markdown",
   "id": "c468d876",
   "metadata": {},
   "source": [
    "Como se puede ver, el título de nivel 1 está en negrita y en un tamaño de fuente más grande que el resto del texto. Los títulos de nivel 2 y 3 están en negrita y en tamaños de fuente progresivamente más pequeños. El texto en negrita está rodeado de dos asteriscos, mientras que el texto en cursiva está rodeado de dos guiones bajos. Las listas desordenadas están precedidas de un asterisco, mientras que las listas ordenadas están precedidas de un número."
   ]
  },
  {
   "cell_type": "markdown",
   "id": "f379d20d",
   "metadata": {},
   "source": [
    "Otros ejemplos de sintaxis Markdown que se puede usar en Jupyter Notebook:\n",
    "\n",
    "* Para crear un enlace, usa el siguiente formato:\n",
    "[Este es un enlace](https://www.example.com)\n",
    "\n",
    "* Para crear una imagen, usa el siguiente formato:\n",
    "\n",
    "![Esta es una imagen](image.png)\n",
    "\n",
    "* Para insertar código, usa el siguiente formato:\n",
    "    \n",
    "    print(\"Hola mundo!\")"
   ]
  },
  {
   "cell_type": "code",
   "execution_count": 2,
   "id": "a09ef309",
   "metadata": {},
   "outputs": [
    {
     "name": "stdout",
     "output_type": "stream",
     "text": [
      "Hola Mundo!\n"
     ]
    }
   ],
   "source": [
    "print(\"Hola Mundo!\")"
   ]
  }
 ],
 "metadata": {
  "kernelspec": {
   "display_name": "Python 3 (ipykernel)",
   "language": "python",
   "name": "python3"
  },
  "language_info": {
   "codemirror_mode": {
    "name": "ipython",
    "version": 3
   },
   "file_extension": ".py",
   "mimetype": "text/x-python",
   "name": "python",
   "nbconvert_exporter": "python",
   "pygments_lexer": "ipython3",
   "version": "3.11.7"
  }
 },
 "nbformat": 4,
 "nbformat_minor": 5
}
